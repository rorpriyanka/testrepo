{
 "cells": [
  {
   "cell_type": "code",
   "execution_count": 5,
   "id": "67edbec0-927f-4351-a261-2725c42589f6",
   "metadata": {},
   "outputs": [],
   "source": [
    "#Data science tools and ecosystem"
   ]
  },
  {
   "cell_type": "code",
   "execution_count": 6,
   "id": "6c0e0613-9710-455e-9fed-02e731f12cc4",
   "metadata": {},
   "outputs": [],
   "source": [
    "#in this notebook, Data science tools and ecosystem are summarized"
   ]
  },
  {
   "cell_type": "code",
   "execution_count": 10,
   "id": "c189ef0e-4e77-4815-b5f8-c9efa29bcbff",
   "metadata": {},
   "outputs": [],
   "source": [
    "#some of the popular languages that data scientists use are:\n",
    "\n",
    "#1.paython\n",
    "\n",
    "#2.R\n",
    "\n",
    "#3.SQL"
   ]
  },
  {
   "cell_type": "code",
   "execution_count": 11,
   "id": "1d3e8610-4ffd-4e83-8ab1-9aa7f76ed789",
   "metadata": {},
   "outputs": [],
   "source": [
    "#some of the commonly used libraries used by Data Scientists include:\n",
    "\n",
    "#1.pandas\n",
    "\n",
    "#2.scikit\n",
    "\n",
    "#3.numpy"
   ]
  },
  {
   "cell_type": "code",
   "execution_count": 13,
   "id": "08163584-9fd2-449f-9f1c-dddb4fabb6b8",
   "metadata": {},
   "outputs": [],
   "source": [
    "#**Data Science Tools**\n",
    "\n",
    "#1.Github\n",
    "\n",
    "#2.Anaconda\n",
    "\n",
    "#3.Visual Studio Code\n"
   ]
  },
  {
   "cell_type": "markdown",
   "id": "245a44b3-7848-43d5-9268-cac256dec11b",
   "metadata": {},
   "source": [
    "###Below are a few examples of evaluating arithmetic expressionin paython\n",
    "\n",
    "\n"
   ]
  },
  {
   "cell_type": "code",
   "execution_count": 2,
   "id": "bb4381fe-7203-4bba-92b2-0634fa76da96",
   "metadata": {},
   "outputs": [
    {
     "data": {
      "text/plain": [
       "17"
      ]
     },
     "execution_count": 2,
     "metadata": {},
     "output_type": "execute_result"
    }
   ],
   "source": [
    "#this is a simple arithmetic expression to multiply then add integer: \n",
    "\n",
    "(3*4)+5\n"
   ]
  },
  {
   "cell_type": "code",
   "execution_count": 15,
   "id": "0ddd4151-cb89-4cd6-92e5-a8b01bb7d31e",
   "metadata": {},
   "outputs": [
    {
     "data": {
      "text/plain": [
       "3.3333333333333335"
      ]
     },
     "execution_count": 15,
     "metadata": {},
     "output_type": "execute_result"
    }
   ],
   "source": [
    "#this will convert 200 minutes to hours by diving by 60\n",
    "200/60"
   ]
  },
  {
   "cell_type": "code",
   "execution_count": 18,
   "id": "c69e5e4a-3577-4051-af79-869d8e7c601d",
   "metadata": {
    "scrolled": true
   },
   "outputs": [
    {
     "data": {
      "text/plain": [
       "9"
      ]
     },
     "execution_count": 18,
     "metadata": {},
     "output_type": "execute_result"
    }
   ],
   "source": [
    "#**OBJECTIVES**\n",
    "#*List popular languages for Data Science*\n",
    "#1.paython\n",
    "#2.SQL\n",
    "#3.R\n",
    "\n",
    "#*arithmetic operation*\n",
    "2+3+4\n",
    "\n",
    "#*lis of environmental tools for Data sscience*\n",
    "#1.Github\n",
    "#2.Anaconda\n",
    "#3.VS code"
   ]
  },
  {
   "cell_type": "markdown",
   "id": "c5dd7482-e934-46b9-af9c-00861893ecc4",
   "metadata": {},
   "source": [
    "##Author\n",
    "#priyanka"
   ]
  },
  {
   "cell_type": "code",
   "execution_count": null,
   "id": "2e41d458-ccda-4e2d-890a-e8c460fb3b18",
   "metadata": {},
   "outputs": [],
   "source": []
  }
 ],
 "metadata": {
  "kernelspec": {
   "display_name": "Python 3 (ipykernel)",
   "language": "python",
   "name": "python3"
  },
  "language_info": {
   "codemirror_mode": {
    "name": "ipython",
    "version": 3
   },
   "file_extension": ".py",
   "mimetype": "text/x-python",
   "name": "python",
   "nbconvert_exporter": "python",
   "pygments_lexer": "ipython3",
   "version": "3.11.7"
  }
 },
 "nbformat": 4,
 "nbformat_minor": 5
}
